{
 "cells": [
  {
   "cell_type": "markdown",
   "metadata": {},
   "source": [
    "Project HRV fatigue."
   ]
  },
  {
   "cell_type": "code",
   "execution_count": 1,
   "metadata": {},
   "outputs": [],
   "source": [
    "import wfdb\n",
    "import pandas as pd"
   ]
  },
  {
   "cell_type": "code",
   "execution_count": 2,
   "metadata": {},
   "outputs": [],
   "source": [
    "w=wfdb.rdsamp('s9_walk')"
   ]
  },
  {
   "cell_type": "code",
   "execution_count": 3,
   "metadata": {},
   "outputs": [
    {
     "data": {
      "text/plain": [
       "['chest_ecg',\n",
       " 'wrist_ppg',\n",
       " 'wrist_gyro_x',\n",
       " 'wrist_gyro_y',\n",
       " 'wrist_gyro_z',\n",
       " 'wrist_low_noise_accelerometer_x',\n",
       " 'wrist_low_noise_accelerometer_y',\n",
       " 'wrist_low_noise_accelerometer_z',\n",
       " 'wrist_wide_range_accelerometer_x',\n",
       " 'wrist_wide_range_accelerometer_y',\n",
       " 'wrist_wide_range_accelerometer_z',\n",
       " 'wrist_mag_x',\n",
       " 'wrist_mag_y',\n",
       " 'wrist_mag_z',\n",
       " 'sample_times_for_all_signals_apart_from_ecg']"
      ]
     },
     "execution_count": 3,
     "metadata": {},
     "output_type": "execute_result"
    }
   ],
   "source": [
    "w[1]['sig_name']"
   ]
  },
  {
   "cell_type": "code",
   "execution_count": 4,
   "metadata": {},
   "outputs": [
    {
     "data": {
      "text/plain": [
       "array([[ 5.16407047e+01,  1.79926992e+03, -1.56203207e+01, ...,\n",
       "         9.60378838e-02, -8.93620070e-01,  1.29972713e+01],\n",
       "       [ 3.81431342e+01,  1.79341837e+03, -1.57870736e+01, ...,\n",
       "         9.60378838e-02, -8.93620070e-01,  1.30009333e+01],\n",
       "       [ 4.29922614e+01,  1.84468780e+03, -1.55999020e+01, ...,\n",
       "         8.00911922e-02, -8.93620070e-01,  1.30045952e+01],\n",
       "       ...,\n",
       "       [ 6.12389770e+02,             nan,             nan, ...,\n",
       "                    nan,             nan,             nan],\n",
       "       [ 6.07540643e+02,             nan,             nan, ...,\n",
       "                    nan,             nan,             nan],\n",
       "       [ 6.47683417e+02,             nan,             nan, ...,\n",
       "                    nan,             nan,             nan]])"
      ]
     },
     "execution_count": 4,
     "metadata": {},
     "output_type": "execute_result"
    }
   ],
   "source": [
    "# les 15 signaux\n",
    "w[0]"
   ]
  },
  {
   "cell_type": "code",
   "execution_count": null,
   "metadata": {},
   "outputs": [],
   "source": []
  }
 ],
 "metadata": {
  "kernelspec": {
   "display_name": "Python 3",
   "language": "python",
   "name": "python3"
  },
  "language_info": {
   "codemirror_mode": {
    "name": "ipython",
    "version": 3
   },
   "file_extension": ".py",
   "mimetype": "text/x-python",
   "name": "python",
   "nbconvert_exporter": "python",
   "pygments_lexer": "ipython3",
   "version": "3.6.5"
  }
 },
 "nbformat": 4,
 "nbformat_minor": 2
}
